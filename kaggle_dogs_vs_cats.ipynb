{
 "cells": [
  {
   "cell_type": "markdown",
   "metadata": {
    "colab_type": "text",
    "id": "view-in-github"
   },
   "source": [
    "<a href=\"https://colab.research.google.com/github/dawidkubicki/kaggle-dogs-vs-cats/blob/main/kaggle_dogs_vs_cats.ipynb\" target=\"_parent\"><img src=\"https://colab.research.google.com/assets/colab-badge.svg\" alt=\"Open In Colab\"/></a>"
   ]
  },
  {
   "cell_type": "code",
   "execution_count": null,
   "metadata": {
    "colab": {
     "base_uri": "https://localhost:8080/",
     "height": 35
    },
    "id": "5THuN9Ug4rDM",
    "outputId": "b81c3e01-e08f-4707-c794-e35beb949fb0",
    "pycharm": {
     "is_executing": true
    }
   },
   "outputs": [],
   "source": [
    "import keras\n",
    "keras.__version__"
   ]
  },
  {
   "cell_type": "code",
   "execution_count": 3,
   "metadata": {
    "id": "qwABQxWV6Xos",
    "pycharm": {
     "name": "#%%\n"
    }
   },
   "outputs": [
    {
     "name": "stdout",
     "output_type": "stream",
     "text": [
      "File created\n"
     ]
    }
   ],
   "source": [
    "# import os, shutil\n",
    "# import os.path\n",
    "\n",
    "# #path to oryginal full downloaded dataset\n",
    "# original_dataset_dir = '/Users/dawidkubicki/Documents/dataset/dogs-vs-cats'\n",
    "\n",
    "# #directory where the new files will be included\n",
    "# base_dir = '/Users/dawidkubicki/Documents/dataset/cats_and_dogs_small'\n",
    "\n",
    "# if os.path.exists('/Users/dawidkubicki/Documents/dataset/cats_and_dogs_small'):\n",
    "#     print (\"File exist\")\n",
    "# else:\n",
    "#     os.mkdir(base_dir)\n",
    "#     print (\"File created\")"
   ]
  },
  {
   "cell_type": "code",
   "execution_count": 3,
   "metadata": {},
   "outputs": [],
   "source": [
    "from keras.applications import VGG16"
   ]
  },
  {
   "cell_type": "code",
   "execution_count": 4,
   "metadata": {},
   "outputs": [],
   "source": [
    "conv_base = VGG16(weights='imagenet',\n",
    "                 include_top=False,\n",
    "                 input_shape=(150,150,3))"
   ]
  },
  {
   "cell_type": "code",
   "execution_count": 5,
   "metadata": {},
   "outputs": [
    {
     "name": "stdout",
     "output_type": "stream",
     "text": [
      "Model: \"vgg16\"\n",
      "_________________________________________________________________\n",
      "Layer (type)                 Output Shape              Param #   \n",
      "=================================================================\n",
      "input_1 (InputLayer)         [(None, 150, 150, 3)]     0         \n",
      "_________________________________________________________________\n",
      "block1_conv1 (Conv2D)        (None, 150, 150, 64)      1792      \n",
      "_________________________________________________________________\n",
      "block1_conv2 (Conv2D)        (None, 150, 150, 64)      36928     \n",
      "_________________________________________________________________\n",
      "block1_pool (MaxPooling2D)   (None, 75, 75, 64)        0         \n",
      "_________________________________________________________________\n",
      "block2_conv1 (Conv2D)        (None, 75, 75, 128)       73856     \n",
      "_________________________________________________________________\n",
      "block2_conv2 (Conv2D)        (None, 75, 75, 128)       147584    \n",
      "_________________________________________________________________\n",
      "block2_pool (MaxPooling2D)   (None, 37, 37, 128)       0         \n",
      "_________________________________________________________________\n",
      "block3_conv1 (Conv2D)        (None, 37, 37, 256)       295168    \n",
      "_________________________________________________________________\n",
      "block3_conv2 (Conv2D)        (None, 37, 37, 256)       590080    \n",
      "_________________________________________________________________\n",
      "block3_conv3 (Conv2D)        (None, 37, 37, 256)       590080    \n",
      "_________________________________________________________________\n",
      "block3_pool (MaxPooling2D)   (None, 18, 18, 256)       0         \n",
      "_________________________________________________________________\n",
      "block4_conv1 (Conv2D)        (None, 18, 18, 512)       1180160   \n",
      "_________________________________________________________________\n",
      "block4_conv2 (Conv2D)        (None, 18, 18, 512)       2359808   \n",
      "_________________________________________________________________\n",
      "block4_conv3 (Conv2D)        (None, 18, 18, 512)       2359808   \n",
      "_________________________________________________________________\n",
      "block4_pool (MaxPooling2D)   (None, 9, 9, 512)         0         \n",
      "_________________________________________________________________\n",
      "block5_conv1 (Conv2D)        (None, 9, 9, 512)         2359808   \n",
      "_________________________________________________________________\n",
      "block5_conv2 (Conv2D)        (None, 9, 9, 512)         2359808   \n",
      "_________________________________________________________________\n",
      "block5_conv3 (Conv2D)        (None, 9, 9, 512)         2359808   \n",
      "_________________________________________________________________\n",
      "block5_pool (MaxPooling2D)   (None, 4, 4, 512)         0         \n",
      "=================================================================\n",
      "Total params: 14,714,688\n",
      "Trainable params: 14,714,688\n",
      "Non-trainable params: 0\n",
      "_________________________________________________________________\n"
     ]
    }
   ],
   "source": [
    "conv_base.summary()"
   ]
  },
  {
   "cell_type": "markdown",
   "metadata": {},
   "source": [
    "### What are we going to do is firsty use this model conv_base with feature_extraction and later we're going to use data augmentation as well"
   ]
  },
  {
   "cell_type": "code",
   "execution_count": 6,
   "metadata": {},
   "outputs": [],
   "source": [
    "import os\n",
    "import numpy as np\n",
    "from keras_preprocessing.image import ImageDataGenerator\n",
    "\n",
    "base_dir = '/Users/dawidkubicki/Documents/dataset/cats_and_dogs_small'\n",
    "\n",
    "train_dir = os.path.join(base_dir, 'train')\n",
    "validation_dir = os.path.join(base_dir, 'validation')\n",
    "test_dir = os.path.join(base_dir, 'test')\n",
    "\n",
    "datagen = ImageDataGenerator(rescale=1./255)\n",
    "batch_size = 20"
   ]
  },
  {
   "cell_type": "markdown",
   "metadata": {},
   "source": [
    "### Feature extraction"
   ]
  },
  {
   "cell_type": "code",
   "execution_count": 16,
   "metadata": {},
   "outputs": [
    {
     "name": "stdout",
     "output_type": "stream",
     "text": [
      "Found 2000 images belonging to 2 classes.\n",
      "Found 1000 images belonging to 2 classes.\n",
      "Found 1000 images belonging to 2 classes.\n"
     ]
    }
   ],
   "source": [
    "def extract_features(directory, sample_count):\n",
    "    features = np.zeros(shape=(sample_count, 4, 4, 512))\n",
    "    labels = np.zeros(shape=(sample_count))\n",
    "    generator = datagen.flow_from_directory(\n",
    "        directory,\n",
    "        target_size=(150, 150),\n",
    "        batch_size=batch_size,\n",
    "        class_mode='binary')\n",
    "    i = 0\n",
    "    for inputs_batch, labels_batch in generator:\n",
    "        features_batch = conv_base.predict(inputs_batch)\n",
    "        features[i*batch_size:(i+1)*batch_size] = features_batch\n",
    "        labels[i*batch_size:(i+1)*batch_size] = labels_batch\n",
    "        i += 1\n",
    "        if i*batch_size >= sample_count:\n",
    "            break\n",
    "    return features, labels\n",
    "\n",
    "train_features, train_labels = extract_features(train_dir, 2000)\n",
    "validation_features, validation_labels = extract_features(validation_dir, 1000)\n",
    "test_features, test_labels = extract_features(test_dir, 1000)\n"
   ]
  },
  {
   "cell_type": "markdown",
   "metadata": {},
   "source": [
    "### Reshape it"
   ]
  },
  {
   "cell_type": "code",
   "execution_count": 17,
   "metadata": {},
   "outputs": [],
   "source": [
    "train_features = np.reshape(train_features, (2000, 4 * 4 * 512))\n",
    "validation_features = np.reshape(validation_features, (1000, 4 * 4 * 512))\n",
    "test_features = np.reshape(test_features, (1000, 4 * 4 * 512))"
   ]
  },
  {
   "cell_type": "markdown",
   "metadata": {},
   "source": [
    "### Training classificator"
   ]
  },
  {
   "cell_type": "code",
   "execution_count": 18,
   "metadata": {},
   "outputs": [
    {
     "name": "stdout",
     "output_type": "stream",
     "text": [
      "Epoch 1/30\n",
      "100/100 [==============================] - 2s 17ms/step - loss: 0.5815 - acc: 0.6855 - val_loss: 0.4385 - val_acc: 0.8300\n",
      "Epoch 2/30\n",
      "100/100 [==============================] - 2s 16ms/step - loss: 0.4258 - acc: 0.8235 - val_loss: 0.3738 - val_acc: 0.8420\n",
      "Epoch 3/30\n",
      "100/100 [==============================] - 2s 16ms/step - loss: 0.3502 - acc: 0.8525 - val_loss: 0.3438 - val_acc: 0.8510\n",
      "Epoch 4/30\n",
      "100/100 [==============================] - 2s 16ms/step - loss: 0.3175 - acc: 0.8715 - val_loss: 0.3194 - val_acc: 0.8660\n",
      "Epoch 5/30\n",
      "100/100 [==============================] - 2s 16ms/step - loss: 0.2953 - acc: 0.8745 - val_loss: 0.3054 - val_acc: 0.8740\n",
      "Epoch 6/30\n",
      "100/100 [==============================] - 2s 16ms/step - loss: 0.2649 - acc: 0.8950 - val_loss: 0.2960 - val_acc: 0.8750\n",
      "Epoch 7/30\n",
      "100/100 [==============================] - 2s 16ms/step - loss: 0.2467 - acc: 0.9030 - val_loss: 0.2957 - val_acc: 0.8740\n",
      "Epoch 8/30\n",
      "100/100 [==============================] - 2s 16ms/step - loss: 0.2340 - acc: 0.9105 - val_loss: 0.2841 - val_acc: 0.8750\n",
      "Epoch 9/30\n",
      "100/100 [==============================] - 2s 16ms/step - loss: 0.2084 - acc: 0.9190 - val_loss: 0.2777 - val_acc: 0.8810\n",
      "Epoch 10/30\n",
      "100/100 [==============================] - 2s 16ms/step - loss: 0.2007 - acc: 0.9340 - val_loss: 0.2838 - val_acc: 0.8790\n",
      "Epoch 11/30\n",
      "100/100 [==============================] - 2s 16ms/step - loss: 0.1958 - acc: 0.9260 - val_loss: 0.2716 - val_acc: 0.8820\n",
      "Epoch 12/30\n",
      "100/100 [==============================] - 2s 16ms/step - loss: 0.1903 - acc: 0.9290 - val_loss: 0.2673 - val_acc: 0.8830\n",
      "Epoch 13/30\n",
      "100/100 [==============================] - 2s 17ms/step - loss: 0.1808 - acc: 0.9345 - val_loss: 0.2688 - val_acc: 0.8770\n",
      "Epoch 14/30\n",
      "100/100 [==============================] - 2s 18ms/step - loss: 0.1655 - acc: 0.9420 - val_loss: 0.2696 - val_acc: 0.8880\n",
      "Epoch 15/30\n",
      "100/100 [==============================] - 2s 17ms/step - loss: 0.1670 - acc: 0.9385 - val_loss: 0.2633 - val_acc: 0.8840\n",
      "Epoch 16/30\n",
      "100/100 [==============================] - 2s 16ms/step - loss: 0.1587 - acc: 0.9465 - val_loss: 0.2625 - val_acc: 0.8840\n",
      "Epoch 17/30\n",
      "100/100 [==============================] - 2s 17ms/step - loss: 0.1440 - acc: 0.9530 - val_loss: 0.2646 - val_acc: 0.8760\n",
      "Epoch 18/30\n",
      "100/100 [==============================] - 2s 17ms/step - loss: 0.1500 - acc: 0.9470 - val_loss: 0.2592 - val_acc: 0.8860\n",
      "Epoch 19/30\n",
      "100/100 [==============================] - 2s 16ms/step - loss: 0.1401 - acc: 0.9465 - val_loss: 0.2585 - val_acc: 0.8860\n",
      "Epoch 20/30\n",
      "100/100 [==============================] - 2s 17ms/step - loss: 0.1313 - acc: 0.9545 - val_loss: 0.2596 - val_acc: 0.8830\n",
      "Epoch 21/30\n",
      "100/100 [==============================] - 2s 16ms/step - loss: 0.1285 - acc: 0.9590 - val_loss: 0.2580 - val_acc: 0.8850\n",
      "Epoch 22/30\n",
      "100/100 [==============================] - 2s 17ms/step - loss: 0.1211 - acc: 0.9610 - val_loss: 0.2599 - val_acc: 0.8850\n",
      "Epoch 23/30\n",
      "100/100 [==============================] - 2s 16ms/step - loss: 0.1184 - acc: 0.9630 - val_loss: 0.2589 - val_acc: 0.8830\n",
      "Epoch 24/30\n",
      "100/100 [==============================] - 2s 17ms/step - loss: 0.1184 - acc: 0.9650 - val_loss: 0.2587 - val_acc: 0.8910\n",
      "Epoch 25/30\n",
      "100/100 [==============================] - 2s 17ms/step - loss: 0.1073 - acc: 0.9675 - val_loss: 0.2586 - val_acc: 0.8870\n",
      "Epoch 26/30\n",
      "100/100 [==============================] - 2s 17ms/step - loss: 0.1070 - acc: 0.9670 - val_loss: 0.2723 - val_acc: 0.8870\n",
      "Epoch 27/30\n",
      "100/100 [==============================] - 2s 16ms/step - loss: 0.0956 - acc: 0.9705 - val_loss: 0.2596 - val_acc: 0.8880\n",
      "Epoch 28/30\n",
      "100/100 [==============================] - 2s 16ms/step - loss: 0.0995 - acc: 0.9695 - val_loss: 0.2615 - val_acc: 0.8900\n",
      "Epoch 29/30\n",
      "100/100 [==============================] - 2s 17ms/step - loss: 0.0944 - acc: 0.9675 - val_loss: 0.2633 - val_acc: 0.8900\n",
      "Epoch 30/30\n",
      "100/100 [==============================] - 2s 17ms/step - loss: 0.0940 - acc: 0.9720 - val_loss: 0.2596 - val_acc: 0.8840\n"
     ]
    }
   ],
   "source": [
    "from keras import models\n",
    "from keras import layers\n",
    "from keras import optimizers\n",
    "\n",
    "model = models.Sequential()\n",
    "model.add(layers.Dense(256, activation='relu', input_dim=4*4*512))\n",
    "model.add(layers.Dropout(0.5))\n",
    "model.add(layers.Dense(1, activation='sigmoid',))\n",
    "\n",
    "model.compile(optimizer=optimizers.RMSprop(lr=2e-5),\n",
    "             loss='binary_crossentropy',\n",
    "             metrics=['acc'])\n",
    "\n",
    "history = model.fit(train_features, train_labels,\n",
    "                   epochs=30,\n",
    "                   batch_size=20,\n",
    "                   validation_data=(validation_features, validation_labels))"
   ]
  },
  {
   "cell_type": "markdown",
   "metadata": {},
   "source": [
    "### Plot results"
   ]
  },
  {
   "cell_type": "code",
   "execution_count": 21,
   "metadata": {},
   "outputs": [
    {
     "data": {
      "image/png": "[encoded data removed]",
      "text/plain": [
       "<Figure size 432x288 with 1 Axes>"
      ]
     },
     "metadata": {
      "needs_background": "light"
     },
     "output_type": "display_data"
    },
    {
     "data": {
      "image/png": "[encoded data removed]",
      "text/plain": [
       "<Figure size 432x288 with 1 Axes>"
      ]
     },
     "metadata": {
      "needs_background": "light"
     },
     "output_type": "display_data"
    }
   ],
   "source": [
    "import matplotlib.pyplot as plt\n",
    "\n",
    "acc = history.history['acc']\n",
    "val_acc = history.history['val_acc']\n",
    "loss = history.history['loss']\n",
    "val_loss = history.history['val_loss']\n",
    "\n",
    "epochs = range(len(acc))\n",
    "\n",
    "plt.plot(epochs, acc, 'bo', label='Training accuracy')\n",
    "plt.plot(epochs, val_acc, 'b', label='Validation accuracy')\n",
    "plt.title('Training and validation accuracy')\n",
    "\n",
    "plt.legend()\n",
    "\n",
    "plt.figure()\n",
    "\n",
    "plt.plot(epochs, loss, 'bo', label='Loss function')\n",
    "plt.plot(epochs, val_loss, 'b', label='Validation loss function')\n",
    "plt.title('Training and validation loss function')\n",
    "plt.legend()\n",
    "\n",
    "plt.show()"
   ]
  },
  {
   "cell_type": "code",
   "execution_count": 22,
   "metadata": {},
   "outputs": [],
   "source": [
    "model.save('cats_and_dogs_small_3.h5')"
   ]
  },
  {
   "cell_type": "code",
   "execution_count": 44,
   "metadata": {},
   "outputs": [],
   "source": [
    "list_key=['a','b','c','d','e']\n",
    "list_value=[1,2,3,4,5]\n",
    "\n",
    "mapowanie = {}\n",
    "\n",
    "for klucz, wartosc in zip(list_key,list_value):\n",
    "    mapowanie[klucz] = wartosc"
   ]
  }
 ],
 "metadata": {
  "accelerator": "GPU",
  "colab": {
   "authorship_tag": "ABX9TyOw5h0eVhpllQd8xVyOFk1X",
   "collapsed_sections": [],
   "include_colab_link": true,
   "name": "kaggle-dogs-vs-cats.ipynb",
   "provenance": []
  },
  "kernelspec": {
   "display_name": "Python 3",
   "language": "python",
   "name": "python3"
  },
  "language_info": {
   "codemirror_mode": {
    "name": "ipython",
    "version": 3
   },
   "file_extension": ".py",
   "mimetype": "text/x-python",
   "name": "python",
   "nbconvert_exporter": "python",
   "pygments_lexer": "ipython3",
   "version": "3.8.5"
  }
 },
 "nbformat": 4,
 "nbformat_minor": 1
}